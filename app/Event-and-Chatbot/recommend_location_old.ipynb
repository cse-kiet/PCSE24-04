{
 "cells": [
  {
   "cell_type": "code",
   "execution_count": 1,
   "metadata": {},
   "outputs": [],
   "source": [
    "import numpy as np\n",
    "import pandas as pd"
   ]
  },
  {
   "cell_type": "code",
   "execution_count": 2,
   "metadata": {},
   "outputs": [],
   "source": [
    "geo =  []\n",
    "li =[]\n",
    "for i in open('data.txt', errors=\"ignore\"):\n",
    "    if (i.split(\":\"))[0]==\"Geo-coordinates\":\n",
    "        geo.append(i.split(\":\")[1].strip('\\n'))\n",
    "\n",
    "# we are taking geo coordinates as the base for the no. of the values\n",
    "parti=[None]*len(geo)\n",
    "prog = [None]*len(geo)\n",
    "coll=[None]*len(geo)\n",
    "#Now dividing the data according to the geo coordinates\n",
    "l=[]\n",
    "b=[]\n",
    "f = open('data.txt',\"r\", errors=\"ignore\")\n",
    "d= f.readlines()\n",
    "for i in d:\n",
    "    if \"Geo-coordinates\" in i:\n",
    "        b.append(l)\n",
    "        l=[]\n",
    "        continue\n",
    "    else:\n",
    "        l.append(i) \n",
    "#b contains divided data wrt the geo coordinates\n",
    "lis=[]\n",
    "j=[]\n",
    "for line in b:\n",
    "     for i in line:\n",
    "       lis.append((i.split(\":\")))\n",
    "     j.append(lis)\n",
    "     lis=[] \n",
    "for ik in range(len(j)):\n",
    "    for i in j[ik]:\n",
    "        if i[0]==\"Total Participants\":\n",
    "             parti[ik]=(int(i[1].strip('\\n')))\n",
    "        if i[0]==\"Type of programme\":\n",
    "              prog[ik]=(i[1].strip('\\n'))\n",
    "        if i[0]==\"College/University\":\n",
    "            coll[ik]=(i[1].strip('\\n'))\n",
    "        \n",
    "data = {\"Geo-coordinates\":geo, \"Total Participants\":parti,\"Type of programme\":prog,\"College/University\":coll}\n",
    "df = pd.DataFrame(data = data)"
   ]
  },
  {
   "cell_type": "code",
   "execution_count": 3,
   "metadata": {},
   "outputs": [],
   "source": [
    "l=df.loc[:,\"Total Participants\"]\n",
    "cord=df.loc[:,\"Geo-coordinates\"]\n",
    "type_program=df.loc[:,\"Type of programme\"]\n",
    "college=df.loc[:,\"College/University\"]"
   ]
  },
  {
   "cell_type": "code",
   "execution_count": 4,
   "metadata": {},
   "outputs": [],
   "source": [
    "from math import cos, asin, sqrt, pi\n",
    "\n",
    "#All distance are in km\n",
    "def distance(lat1, lon1, lat2, lon2):\n",
    "    p = pi/180\n",
    "    a = 0.5 - cos((lat2-lat1)*p)/2 + cos(lat1*p) * cos(lat2*p) * (1-cos((lon2-lon1)*p))/2\n",
    "    return 12742 * asin(sqrt(a)) #2*R*asin...\n",
    "\n",
    "def near_location(lon2,lat2):\n",
    "    threshold_dist=1\n",
    "    loc=[]\n",
    "    i=0\n",
    "    minimum=1e9\n",
    "    index=-1\n",
    "    n=len(cord)\n",
    "    while(i<n):\n",
    "        long=\"\"\n",
    "        lati=\"\"\n",
    "        j=0\n",
    "        a=cord[i]\n",
    "        while(a[j]!=','):\n",
    "            lati=lati+a[j]\n",
    "            j=j+1\n",
    "        j=j+1\n",
    "        while(j<len(cord[i])):\n",
    "            long=long+a[j]\n",
    "            j=j+1\n",
    "        long=float(long)\n",
    "        lati=float(lati)\n",
    "        dist=distance(lati,long,lat2,lon2)\n",
    "        loc.append(dist)\n",
    "        if(dist<minimum):\n",
    "            minimum=dist\n",
    "            index=i\n",
    "        i=i+1\n",
    "    n=len(loc)\n",
    "    threshold_parti=l[index]+50\n",
    "    for i in range(0,n):\n",
    "        if(abs(minimum-loc[i])<=threshold_dist):\n",
    "            if(l[i]>=threshold_parti):\n",
    "                threshold_parti=l[i]\n",
    "                index=i\n",
    "    return index"
   ]
  },
  {
   "cell_type": "code",
   "execution_count": 5,
   "metadata": {},
   "outputs": [
    {
     "name": "stdout",
     "output_type": "stream",
     "text": [
      "7\n",
      "[' 30.1466639,74.1988788                              ', ' Session/Lecture                              ', \" GOVT GIRL'S SCHOOL ABOHAR                              \"]\n"
     ]
    }
   ],
   "source": [
    "lat1=23.564532\n",
    "long1=34.463524\n",
    "min_index=near_location(long1,lat1)\n",
    "print(min_index)\n",
    "answer=[]\n",
    "answer.append(cord[min_index])\n",
    "answer.append(type_program[min_index])\n",
    "if(college[min_index]!=None):\n",
    "    answer.append(college[min_index])\n",
    "print(answer)"
   ]
  },
  {
   "cell_type": "code",
   "execution_count": 6,
   "metadata": {},
   "outputs": [],
   "source": [
    "def more_partication():\n",
    "    n=len(l)\n",
    "    maximum=-1\n",
    "    index=-1\n",
    "    for i in range(0,n):\n",
    "        if(maximum<l[i]):\n",
    "            maximum=l[i]\n",
    "            index=i\n",
    "    return index"
   ]
  },
  {
   "cell_type": "code",
   "execution_count": 7,
   "metadata": {},
   "outputs": [
    {
     "name": "stdout",
     "output_type": "stream",
     "text": [
      "[' 30.1466639,74.1988788                              ', 300.0, ' Session/Lecture                              ', \" GOVT GIRL'S SCHOOL ABOHAR                              \"]\n"
     ]
    }
   ],
   "source": [
    "index=more_partication()\n",
    "answer=[]\n",
    "answer.append(cord[index])\n",
    "answer.append(l[index])\n",
    "answer.append(type_program[index])\n",
    "if(college[index]!=None):\n",
    "    answer.append(college[index])\n",
    "print(answer)"
   ]
  },
  {
   "cell_type": "code",
   "execution_count": null,
   "metadata": {},
   "outputs": [],
   "source": []
  }
 ],
 "metadata": {
  "kernelspec": {
   "display_name": "Python 3",
   "language": "python",
   "name": "python3"
  },
  "language_info": {
   "codemirror_mode": {
    "name": "ipython",
    "version": 3
   },
   "file_extension": ".py",
   "mimetype": "text/x-python",
   "name": "python",
   "nbconvert_exporter": "python",
   "pygments_lexer": "ipython3",
   "version": "3.8.5"
  }
 },
 "nbformat": 4,
 "nbformat_minor": 4
}
