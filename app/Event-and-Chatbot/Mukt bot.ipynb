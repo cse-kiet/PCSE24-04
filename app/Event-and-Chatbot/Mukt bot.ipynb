{
 "cells": [
  {
   "cell_type": "code",
   "execution_count": 62,
   "metadata": {},
   "outputs": [
    {
     "name": "stdout",
     "output_type": "stream",
     "text": [
      "                                      Geo-coordinates  Total Participants  \\\n",
      "0    30.1469697,74.1985536                        ...                 2.0   \n",
      "1    30.1421379,74.1922959                        ...               200.0   \n",
      "2    30.1451374,74.1997727                        ...               150.0   \n",
      "3    30.1469714,74.1985528                        ...               150.0   \n",
      "4    30.1469436,74.1986144                        ...                 NaN   \n",
      "5    30.1472945,74.1941705                        ...                30.0   \n",
      "6    30.1467164,74.1988895                        ...                 4.0   \n",
      "7    30.1466639,74.1988788                        ...               300.0   \n",
      "8    29.6270058,74.2870469                        ...                35.0   \n",
      "9    29.6270058,74.2870469                        ...                35.0   \n",
      "10   30.1469675,74.1985549                        ...                70.0   \n",
      "11   30.1466979,74.1988678                        ...                20.0   \n",
      "12   30.1466979,74.1988678                        ...                20.0   \n",
      "13   30.1466979,74.1988678                        ...                20.0   \n",
      "14   30.1466979,74.1988678                        ...                20.0   \n",
      "15   30.1466979,74.1988678                        ...                20.0   \n",
      "16   30.1469492,74.1985996                        ...               200.0   \n",
      "17   30.1469492,74.1985996                        ...               200.0   \n",
      "18   30.1469545,74.1985848                        ...                20.0   \n",
      "19   30.1469545,74.1985848                        ...                20.0   \n",
      "20   30.1462372,74.2001396                        ...                80.0   \n",
      "21   30.1462372,74.2001396                        ...                80.0   \n",
      "22   30.1450923,74.1994058                        ...                50.0   \n",
      "23   30.1473228,74.1942045                        ...               100.0   \n",
      "24   30.1473228,74.1942045                        ...               100.0   \n",
      "\n",
      "                                 Type of programme  \\\n",
      "0    Session/Lecture                                 \n",
      "1             Sports                                 \n",
      "2    Session/Lecture                                 \n",
      "3    Session/Lecture                                 \n",
      "4                                             None   \n",
      "5    Event programme                                 \n",
      "6                                             None   \n",
      "7    Session/Lecture                                 \n",
      "8             Sports                                 \n",
      "9             Sports                                 \n",
      "10            Sports                                 \n",
      "11   Event programme                                 \n",
      "12            Sports                                 \n",
      "13            Sports                                 \n",
      "14            Sports                                 \n",
      "15            Sports                                 \n",
      "16   Session/Lecture                                 \n",
      "17   Session/Lecture                                 \n",
      "18                                            None   \n",
      "19                                            None   \n",
      "20   Session/Lecture                                 \n",
      "21   Session/Lecture                                 \n",
      "22            Sports                                 \n",
      "23   Session/Lecture                                 \n",
      "24   Session/Lecture                                 \n",
      "\n",
      "                                   College/University  \n",
      "0    aadharshila school abohar                    ...  \n",
      "1                                                None  \n",
      "2    NEW ANMOL PUBLIC SCHOOL                      ...  \n",
      "3    GOVT BRANCH SCHOOL ABOHAR                    ...  \n",
      "4                                                None  \n",
      "5                                                None  \n",
      "6                                                None  \n",
      "7    GOVT GIRL'S SCHOOL ABOHAR                    ...  \n",
      "8                                                None  \n",
      "9                                                None  \n",
      "10                                               None  \n",
      "11                                               None  \n",
      "12                                               None  \n",
      "13                                               None  \n",
      "14                                               None  \n",
      "15                                               None  \n",
      "16      DAV BED COLLEGE                                \n",
      "17      DAV BED COLLEGE                                \n",
      "18                                               None  \n",
      "19                                               None  \n",
      "20                                               None  \n",
      "21                                               None  \n",
      "22                                               None  \n",
      "23   SHRI GURU NANAK AV SCHOOL                    ...  \n",
      "24   SHRI GURU NANAK AV SCHOOL                    ...  \n",
      "7\n",
      "[' 30.1466639,74.1988788                              ', ' Session/Lecture                              ', \" GOVT GIRL'S SCHOOL ABOHAR                              \"]\n",
      "[' 30.1466639,74.1988788                              ', 300.0, ' Session/Lecture                              ', \" GOVT GIRL'S SCHOOL ABOHAR                              \"]\n"
     ]
    }
   ],
   "source": [
    "import recommend as rec"
   ]
  },
  {
   "cell_type": "code",
   "execution_count": 65,
   "metadata": {},
   "outputs": [
    {
     "ename": "SyntaxError",
     "evalue": "invalid syntax (<ipython-input-65-4f3349a7de8f>, line 1)",
     "output_type": "error",
     "traceback": [
      "\u001b[1;36m  File \u001b[1;32m\"<ipython-input-65-4f3349a7de8f>\"\u001b[1;36m, line \u001b[1;32m1\u001b[0m\n\u001b[1;33m    import near_location from recommend\u001b[0m\n\u001b[1;37m                         ^\u001b[0m\n\u001b[1;31mSyntaxError\u001b[0m\u001b[1;31m:\u001b[0m invalid syntax\n"
     ]
    }
   ],
   "source": [
    "import near_location from recommend\n",
    "# lat1=23.564532\n",
    "# long1=34.463524\n",
    "# min_index=rec.near_location(long1,lat1)\n",
    "# print(min_index)\n",
    "# answer=[]\n",
    "# answer.append(cord[min_index])\n",
    "# answer.append(type_program[min_index])\n",
    "# if(college[min_index]!=None):\n",
    "#     answer.append(college[min_index])\n",
    "# print(answer)"
   ]
  },
  {
   "cell_type": "code",
   "execution_count": 1,
   "metadata": {},
   "outputs": [
    {
     "name": "stdout",
     "output_type": "stream",
     "text": [
      "Requirement already satisfied: nltk in c:\\users\\aman shrivastava\\anaconda3\\lib\\site-packages (3.5)\n",
      "Requirement already satisfied: tqdm in c:\\users\\aman shrivastava\\anaconda3\\lib\\site-packages (from nltk) (4.50.2)\n",
      "Requirement already satisfied: regex in c:\\users\\aman shrivastava\\anaconda3\\lib\\site-packages (from nltk) (2020.10.15)\n",
      "Requirement already satisfied: joblib in c:\\users\\aman shrivastava\\anaconda3\\lib\\site-packages (from nltk) (0.17.0)\n",
      "Requirement already satisfied: click in c:\\users\\aman shrivastava\\anaconda3\\lib\\site-packages (from nltk) (7.1.2)\n"
     ]
    },
    {
     "name": "stderr",
     "output_type": "stream",
     "text": [
      "WARNING: Ignoring invalid distribution -ymongo (c:\\users\\aman shrivastava\\anaconda3\\lib\\site-packages)\n",
      "WARNING: Ignoring invalid distribution -ymongo (c:\\users\\aman shrivastava\\anaconda3\\lib\\site-packages)\n",
      "WARNING: Ignoring invalid distribution -ymongo (c:\\users\\aman shrivastava\\anaconda3\\lib\\site-packages)\n",
      "WARNING: Ignoring invalid distribution -ymongo (c:\\users\\aman shrivastava\\anaconda3\\lib\\site-packages)\n",
      "WARNING: Ignoring invalid distribution -ymongo (c:\\users\\aman shrivastava\\anaconda3\\lib\\site-packages)\n",
      "WARNING: Ignoring invalid distribution -ymongo (c:\\users\\aman shrivastava\\anaconda3\\lib\\site-packages)\n",
      "WARNING: There was an error checking the latest version of pip.\n"
     ]
    }
   ],
   "source": [
    "!pip install nltk"
   ]
  },
  {
   "cell_type": "code",
   "execution_count": 2,
   "metadata": {},
   "outputs": [
    {
     "name": "stdout",
     "output_type": "stream",
     "text": [
      "Requirement already satisfied: newspaper3k in c:\\users\\aman shrivastava\\anaconda3\\lib\\site-packages (0.2.8)\n",
      "Requirement already satisfied: beautifulsoup4>=4.4.1 in c:\\users\\aman shrivastava\\anaconda3\\lib\\site-packages (from newspaper3k) (4.9.3)\n",
      "Requirement already satisfied: cssselect>=0.9.2 in c:\\users\\aman shrivastava\\anaconda3\\lib\\site-packages (from newspaper3k) (1.1.0)\n",
      "Requirement already satisfied: requests>=2.10.0 in c:\\users\\aman shrivastava\\anaconda3\\lib\\site-packages (from newspaper3k) (2.24.0)\n",
      "Requirement already satisfied: PyYAML>=3.11 in c:\\users\\aman shrivastava\\anaconda3\\lib\\site-packages (from newspaper3k) (5.3.1)\n",
      "Requirement already satisfied: tldextract>=2.0.1 in c:\\users\\aman shrivastava\\anaconda3\\lib\\site-packages (from newspaper3k) (3.3.1)\n",
      "Requirement already satisfied: feedparser>=5.2.1 in c:\\users\\aman shrivastava\\anaconda3\\lib\\site-packages (from newspaper3k) (6.0.10)\n",
      "Requirement already satisfied: feedfinder2>=0.0.4 in c:\\users\\aman shrivastava\\anaconda3\\lib\\site-packages (from newspaper3k) (0.0.4)\n",
      "Requirement already satisfied: jieba3k>=0.35.1 in c:\\users\\aman shrivastava\\anaconda3\\lib\\site-packages (from newspaper3k) (0.35.1)\n",
      "Requirement already satisfied: Pillow>=3.3.0 in c:\\users\\aman shrivastava\\anaconda3\\lib\\site-packages (from newspaper3k) (9.1.1)\n",
      "Requirement already satisfied: tinysegmenter==0.3 in c:\\users\\aman shrivastava\\anaconda3\\lib\\site-packages (from newspaper3k) (0.3)\n",
      "Requirement already satisfied: python-dateutil>=2.5.3 in c:\\users\\aman shrivastava\\anaconda3\\lib\\site-packages (from newspaper3k) (2.8.1)\n",
      "Requirement already satisfied: nltk>=3.2.1 in c:\\users\\aman shrivastava\\anaconda3\\lib\\site-packages (from newspaper3k) (3.5)\n",
      "Requirement already satisfied: lxml>=3.6.0 in c:\\users\\aman shrivastava\\anaconda3\\lib\\site-packages (from newspaper3k) (4.6.1)\n",
      "Requirement already satisfied: soupsieve>1.2 in c:\\users\\aman shrivastava\\anaconda3\\lib\\site-packages (from beautifulsoup4>=4.4.1->newspaper3k) (2.0.1)\n",
      "Requirement already satisfied: six in c:\\users\\aman shrivastava\\anaconda3\\lib\\site-packages (from feedfinder2>=0.0.4->newspaper3k) (1.15.0)\n",
      "Requirement already satisfied: sgmllib3k in c:\\users\\aman shrivastava\\anaconda3\\lib\\site-packages (from feedparser>=5.2.1->newspaper3k) (1.0.0)\n",
      "Requirement already satisfied: joblib in c:\\users\\aman shrivastava\\anaconda3\\lib\\site-packages (from nltk>=3.2.1->newspaper3k) (0.17.0)\n",
      "Requirement already satisfied: tqdm in c:\\users\\aman shrivastava\\anaconda3\\lib\\site-packages (from nltk>=3.2.1->newspaper3k) (4.50.2)\n",
      "Requirement already satisfied: regex in c:\\users\\aman shrivastava\\anaconda3\\lib\\site-packages (from nltk>=3.2.1->newspaper3k) (2020.10.15)\n",
      "Requirement already satisfied: click in c:\\users\\aman shrivastava\\anaconda3\\lib\\site-packages (from nltk>=3.2.1->newspaper3k) (7.1.2)\n",
      "Requirement already satisfied: idna<3,>=2.5 in c:\\users\\aman shrivastava\\anaconda3\\lib\\site-packages (from requests>=2.10.0->newspaper3k) (2.10)\n",
      "Requirement already satisfied: chardet<4,>=3.0.2 in c:\\users\\aman shrivastava\\anaconda3\\lib\\site-packages (from requests>=2.10.0->newspaper3k) (3.0.4)\n",
      "Requirement already satisfied: certifi>=2017.4.17 in c:\\users\\aman shrivastava\\anaconda3\\lib\\site-packages (from requests>=2.10.0->newspaper3k) (2020.6.20)\n",
      "Requirement already satisfied: urllib3!=1.25.0,!=1.25.1,<1.26,>=1.21.1 in c:\\users\\aman shrivastava\\anaconda3\\lib\\site-packages (from requests>=2.10.0->newspaper3k) (1.25.11)\n",
      "Requirement already satisfied: filelock>=3.0.8 in c:\\users\\aman shrivastava\\anaconda3\\lib\\site-packages (from tldextract>=2.0.1->newspaper3k) (3.0.12)\n",
      "Requirement already satisfied: requests-file>=1.4 in c:\\users\\aman shrivastava\\anaconda3\\lib\\site-packages (from tldextract>=2.0.1->newspaper3k) (1.5.1)\n"
     ]
    },
    {
     "name": "stderr",
     "output_type": "stream",
     "text": [
      "WARNING: Ignoring invalid distribution -ymongo (c:\\users\\aman shrivastava\\anaconda3\\lib\\site-packages)\n",
      "WARNING: Ignoring invalid distribution -ymongo (c:\\users\\aman shrivastava\\anaconda3\\lib\\site-packages)\n",
      "WARNING: Ignoring invalid distribution -ymongo (c:\\users\\aman shrivastava\\anaconda3\\lib\\site-packages)\n",
      "WARNING: Ignoring invalid distribution -ymongo (c:\\users\\aman shrivastava\\anaconda3\\lib\\site-packages)\n",
      "WARNING: Ignoring invalid distribution -ymongo (c:\\users\\aman shrivastava\\anaconda3\\lib\\site-packages)\n",
      "WARNING: Ignoring invalid distribution -ymongo (c:\\users\\aman shrivastava\\anaconda3\\lib\\site-packages)\n",
      "WARNING: There was an error checking the latest version of pip.\n"
     ]
    }
   ],
   "source": [
    "!pip install newspaper3k"
   ]
  },
  {
   "cell_type": "code",
   "execution_count": 15,
   "metadata": {},
   "outputs": [],
   "source": [
    "#import the packages\n",
    "from newspaper import Article\n",
    "import random\n",
    "import string\n",
    "import numpy as np\n",
    "import warnings\n",
    "import nltk\n",
    "from sklearn.feature_extraction.text import CountVectorizer\n",
    "from sklearn.metrics.pairwise import cosine_similarity\n",
    "warnings.filterwarnings('ignore')"
   ]
  },
  {
   "cell_type": "code",
   "execution_count": 6,
   "metadata": {},
   "outputs": [
    {
     "data": {
      "text/plain": [
       "True"
      ]
     },
     "execution_count": 6,
     "metadata": {},
     "output_type": "execute_result"
    }
   ],
   "source": [
    "nltk.download('punkt',quiet=True)\n",
    "nltk.download('wordnet',quiet=True)"
   ]
  },
  {
   "cell_type": "code",
   "execution_count": 51,
   "metadata": {},
   "outputs": [
    {
     "name": "stdout",
     "output_type": "stream",
     "text": [
      "The Minister for Social Justice & Empowerment Shri Thawaarchand Gehlot launched the website for the Nasha Mukt Bharat Abhiyaan (NMBA) on the occasion of International Day Against Drug Abuse and Illicit Trafficking on 26 June 2021, which is observed worldwide to strengthen action and cooperation in achieving the goal of a sustainable world free of substance abuse. The entire world is facing the menace of drug addiction which has a devastating impact on the addict, individual, family and a large section of society.\n",
      "\n",
      "The launch of Nasha Mukt Bharat Abhiyaan (NMBA) is for 272 Districts across 32 State/Union Territories that have been identified as the most vulnerable in terms of usage of drugs in the country. These vulnerable districts were identified on the basis of findings from the Comprehensive National Survey and the inputs provided by the Narcotics Control Bureau (NCB). According to the National Comprehensive Survey conducted by the Ministry of Social Justice and Empowerment, there are more than 60 million drug users in the country of which a large number of users are in the age group of 10-17 years.\n",
      "\n",
      "Objectives\n",
      "\n",
      "Nasha Mukt Bharat Abhiyaan intends to reach out to the masses and spread awareness about substance abuse through various activities like:\n",
      "\n",
      "Awareness generation programmes\n",
      "\n",
      "Focus on higher educational Institutions, university campuses and schools\n",
      "\n",
      "Reaching out to the Community and identifying dependent population\n",
      "\n",
      "Focus on counselling and treatment facilities in hospitals and rehabilitation centres that have been geo-tagged\n",
      "\n",
      "Capacity building programmes for service providers\n",
      "\n",
      "Initiatives\n",
      "\n",
      "The Ministry of Social Justice and Empowerment has been mandated to reduce drug demand. It coordinates and oversees all aspects of drug abuse prevention including assessment of the extent of the problem, preventive action, treatment and rehabilitation of addicts, dissemination of information, and public awareness and is mandated to run de-addiction centres.\n",
      "\n",
      "Nasha Mukt Bharat Abhiyaan is operational with the involvement of more than 500 voluntary organizations across the country, which are assisted financially under the National Action Plan for Drug Demand Reduction (NAPDDR) scheme of the Ministry of Social Justice & Empowerment.\n",
      "\n",
      "These NGOs have been actively involved in the implementation of Drug-Free India campaign. Nearly 8000 youth volunteers and outreach workers of these institutions/organizations have gone from door to door, village to village and nearby localities, etc. to educate the people about the ill effects of drug abuse and have assisted in the rehabilitation of victims of substance abuse.\n",
      "\n",
      "The Nasha Mukt Bharat Abhiyaan website provides detailed information about the Abhiyaan and its activities, gives glimpses through the Photo & video gallery, provides IEC resource material and information on the institutions set up by the Ministry with the aim of Drug Demand reduction.\n",
      "\n",
      "Institutions\n",
      "\n",
      "The Ministry of Social Justice and Empowerment supports organizations that work for preventive education & awareness generation on substance abuse, capacity building, treatment and rehabilitation. These organizations are:\n",
      "\n",
      "\n",
      "\n",
      "\n",
      "\n",
      "Institutions supported by Ministry of Social Justice and Empowerment\n",
      "\n",
      "Integrated Rehabilitation Center For Addicts (IRCAs) : are de-addiction centres with inpatient facilities of counselling and treatment for drug dependent persons\n",
      "\n",
      ": are de-addiction centres with inpatient facilities of counselling and treatment for drug dependent persons Community Peer Led Intervention (CPLI) : work with the community supported by youth volunteers for early preventive education, especially for vulnerable adolescents and youth in the community\n",
      "\n",
      ": work with the community supported by youth volunteers for early preventive education, especially for vulnerable adolescents and youth in the community Outreach And Drop In Centres (ODIC) : provide facilities of screening, assessment and counselling along with providing referral & linkage to treatment and rehabilitation services for drug dependents\n",
      "\n",
      ": provide facilities of screening, assessment and counselling along with providing referral & linkage to treatment and rehabilitation services for drug dependents GEO Location: Ministry supported institutions providing Drug addiction counseling, treatment and rehabilitation and other facilities have been Geo-tagged to make their services accessible and easier to locate\n",
      "\n",
      "Contact Details For details : Visit\n",
      "\n",
      "Related Links\n"
     ]
    }
   ],
   "source": [
    "#get artical url\n",
    "article= Article('https://www.india.gov.in/spotlight/nasha-mukt-bharat-abhiyaan')\n",
    "article.download()\n",
    "article.parse()\n",
    "article.nlp()\n",
    "corpus=article.text\n",
    "#print\n",
    "print(corpus)"
   ]
  },
  {
   "cell_type": "code",
   "execution_count": 52,
   "metadata": {},
   "outputs": [
    {
     "name": "stdout",
     "output_type": "stream",
     "text": [
      "['The Minister for Social Justice & Empowerment Shri Thawaarchand Gehlot launched the website for the Nasha Mukt Bharat Abhiyaan (NMBA) on the occasion of International Day Against Drug Abuse and Illicit Trafficking on 26 June 2021, which is observed worldwide to strengthen action and cooperation in achieving the goal of a sustainable world free of substance abuse.', 'The entire world is facing the menace of drug addiction which has a devastating impact on the addict, individual, family and a large section of society.', 'The launch of Nasha Mukt Bharat Abhiyaan (NMBA) is for 272 Districts across 32 State/Union Territories that have been identified as the most vulnerable in terms of usage of drugs in the country.', 'These vulnerable districts were identified on the basis of findings from the Comprehensive National Survey and the inputs provided by the Narcotics Control Bureau (NCB).', 'According to the National Comprehensive Survey conducted by the Ministry of Social Justice and Empowerment, there are more than 60 million drug users in the country of which a large number of users are in the age group of 10-17 years.', 'Objectives\\n\\nNasha Mukt Bharat Abhiyaan intends to reach out to the masses and spread awareness about substance abuse through various activities like:\\n\\nAwareness generation programmes\\n\\nFocus on higher educational Institutions, university campuses and schools\\n\\nReaching out to the Community and identifying dependent population\\n\\nFocus on counselling and treatment facilities in hospitals and rehabilitation centres that have been geo-tagged\\n\\nCapacity building programmes for service providers\\n\\nInitiatives\\n\\nThe Ministry of Social Justice and Empowerment has been mandated to reduce drug demand.', 'It coordinates and oversees all aspects of drug abuse prevention including assessment of the extent of the problem, preventive action, treatment and rehabilitation of addicts, dissemination of information, and public awareness and is mandated to run de-addiction centres.', 'Nasha Mukt Bharat Abhiyaan is operational with the involvement of more than 500 voluntary organizations across the country, which are assisted financially under the National Action Plan for Drug Demand Reduction (NAPDDR) scheme of the Ministry of Social Justice & Empowerment.', 'These NGOs have been actively involved in the implementation of Drug-Free India campaign.', 'Nearly 8000 youth volunteers and outreach workers of these institutions/organizations have gone from door to door, village to village and nearby localities, etc.', 'to educate the people about the ill effects of drug abuse and have assisted in the rehabilitation of victims of substance abuse.', 'The Nasha Mukt Bharat Abhiyaan website provides detailed information about the Abhiyaan and its activities, gives glimpses through the Photo & video gallery, provides IEC resource material and information on the institutions set up by the Ministry with the aim of Drug Demand reduction.', 'Institutions\\n\\nThe Ministry of Social Justice and Empowerment supports organizations that work for preventive education & awareness generation on substance abuse, capacity building, treatment and rehabilitation.', 'These organizations are:\\n\\n\\n\\n\\n\\nInstitutions supported by Ministry of Social Justice and Empowerment\\n\\nIntegrated Rehabilitation Center For Addicts (IRCAs) : are de-addiction centres with inpatient facilities of counselling and treatment for drug dependent persons\\n\\n: are de-addiction centres with inpatient facilities of counselling and treatment for drug dependent persons Community Peer Led Intervention (CPLI) : work with the community supported by youth volunteers for early preventive education, especially for vulnerable adolescents and youth in the community\\n\\n: work with the community supported by youth volunteers for early preventive education, especially for vulnerable adolescents and youth in the community Outreach And Drop In Centres (ODIC) : provide facilities of screening, assessment and counselling along with providing referral & linkage to treatment and rehabilitation services for drug dependents\\n\\n: provide facilities of screening, assessment and counselling along with providing referral & linkage to treatment and rehabilitation services for drug dependents GEO Location: Ministry supported institutions providing Drug addiction counseling, treatment and rehabilitation and other facilities have been Geo-tagged to make their services accessible and easier to locate\\n\\nContact Details For details : Visit\\n\\nRelated Links']\n"
     ]
    }
   ],
   "source": [
    "#tokenization\n",
    "text=corpus\n",
    "sentence_list=nltk.sent_tokenize(text)\n",
    "print(sentence_list)"
   ]
  },
  {
   "cell_type": "code",
   "execution_count": 53,
   "metadata": {},
   "outputs": [],
   "source": [
    "def greeting_response(text):\n",
    "    text=text.lower()\n",
    "    bot_greetings=['howdy','hi','hello','hola']\n",
    "    user_greetings=['hi','hello','hola','greetings','wassup']\n",
    "    \n",
    "    for word in text.split():\n",
    "        if word in user_greetings:\n",
    "            return random.choice(bot_greetings)"
   ]
  },
  {
   "cell_type": "code",
   "execution_count": 54,
   "metadata": {},
   "outputs": [],
   "source": [
    "def index_sort(list_var):\n",
    "    length=len(list_var)\n",
    "    list_index=list(range(0,length))\n",
    "    x=list_var\n",
    "    for i in range(length):\n",
    "        for j in range(length):\n",
    "            if x[list_index[i]]>x[list_index[j]]:\n",
    "                temp=list_index[i]\n",
    "                list_index[i]=list_index[j]\n",
    "                list_index[j]=temp\n",
    "                \n",
    "    return list_index"
   ]
  },
  {
   "cell_type": "code",
   "execution_count": 55,
   "metadata": {},
   "outputs": [],
   "source": [
    "def bot_response(user_input):\n",
    "    user_input=user_input.lower()\n",
    "    sentence_list.append(user_input)\n",
    "    bot_response=''\n",
    "    cm=CountVectorizer().fit_transform(sentence_list)\n",
    "    similarity_scores=cosine_similarity(cm[-1],cm)\n",
    "    similarity_scores_list=similarity_scores.flatten()\n",
    "    index=index_sort(similarity_scores_list)\n",
    "    index=index[1:]\n",
    "    response_flag=0\n",
    "    \n",
    "    j=0\n",
    "    for i in range(len(index)):\n",
    "        if similarity_scores_list[index[i]]>0.0:\n",
    "            bot_response=bot_response+' '+sentence_list[index[i]]\n",
    "            response_flag=1\n",
    "            j=j+1\n",
    "        if j>2:\n",
    "            break\n",
    "    if response_flag==0:\n",
    "        bot_response=bot_response+' '+\"I don't understand.\"\n",
    "    sentence_list.remove(user_input)\n",
    "    return bot_response\n",
    "        "
   ]
  },
  {
   "cell_type": "code",
   "execution_count": 58,
   "metadata": {},
   "outputs": [
    {
     "name": "stdout",
     "output_type": "stream",
     "text": [
      "Bot:Hi i am bot\n",
      "hi\n",
      "Bot: hello\n",
      "Find event near me:\n",
      "Ok\n"
     ]
    },
    {
     "ename": "KeyboardInterrupt",
     "evalue": "Interrupted by user",
     "output_type": "error",
     "traceback": [
      "\u001b[1;31m---------------------------------------------------------------------------\u001b[0m",
      "\u001b[1;31mKeyboardInterrupt\u001b[0m                         Traceback (most recent call last)",
      "\u001b[1;32m<ipython-input-58-b6e363c9d910>\u001b[0m in \u001b[0;36m<module>\u001b[1;34m\u001b[0m\n\u001b[0;32m      2\u001b[0m \u001b[0mexit_list\u001b[0m\u001b[1;33m=\u001b[0m\u001b[1;33m[\u001b[0m\u001b[1;34m'exit'\u001b[0m\u001b[1;33m,\u001b[0m\u001b[1;34m'see you later'\u001b[0m\u001b[1;33m,\u001b[0m\u001b[1;34m'bye'\u001b[0m\u001b[1;33m,\u001b[0m\u001b[1;34m'break'\u001b[0m\u001b[1;33m,\u001b[0m\u001b[1;34m'quit'\u001b[0m\u001b[1;33m]\u001b[0m\u001b[1;33m\u001b[0m\u001b[1;33m\u001b[0m\u001b[0m\n\u001b[0;32m      3\u001b[0m \u001b[1;32mwhile\u001b[0m\u001b[1;33m(\u001b[0m\u001b[1;32mTrue\u001b[0m\u001b[1;33m)\u001b[0m\u001b[1;33m:\u001b[0m\u001b[1;33m\u001b[0m\u001b[1;33m\u001b[0m\u001b[0m\n\u001b[1;32m----> 4\u001b[1;33m     \u001b[0muser_input\u001b[0m\u001b[1;33m=\u001b[0m\u001b[0minput\u001b[0m\u001b[1;33m(\u001b[0m\u001b[1;33m)\u001b[0m\u001b[1;33m\u001b[0m\u001b[1;33m\u001b[0m\u001b[0m\n\u001b[0m\u001b[0;32m      5\u001b[0m     \u001b[1;32mif\u001b[0m\u001b[1;33m(\u001b[0m\u001b[0muser_input\u001b[0m\u001b[1;33m==\u001b[0m\u001b[1;34m\"Find event near me:\"\u001b[0m\u001b[1;33m)\u001b[0m\u001b[1;33m:\u001b[0m\u001b[1;33m\u001b[0m\u001b[1;33m\u001b[0m\u001b[0m\n\u001b[0;32m      6\u001b[0m         \u001b[0mprint\u001b[0m\u001b[1;33m(\u001b[0m\u001b[1;34m\"Ok\"\u001b[0m\u001b[1;33m)\u001b[0m\u001b[1;33m\u001b[0m\u001b[1;33m\u001b[0m\u001b[0m\n",
      "\u001b[1;32m~\\anaconda3\\lib\\site-packages\\ipykernel\\kernelbase.py\u001b[0m in \u001b[0;36mraw_input\u001b[1;34m(self, prompt)\u001b[0m\n\u001b[0;32m    858\u001b[0m                 \u001b[1;34m\"raw_input was called, but this frontend does not support input requests.\"\u001b[0m\u001b[1;33m\u001b[0m\u001b[1;33m\u001b[0m\u001b[0m\n\u001b[0;32m    859\u001b[0m             )\n\u001b[1;32m--> 860\u001b[1;33m         return self._input_request(str(prompt),\n\u001b[0m\u001b[0;32m    861\u001b[0m             \u001b[0mself\u001b[0m\u001b[1;33m.\u001b[0m\u001b[0m_parent_ident\u001b[0m\u001b[1;33m,\u001b[0m\u001b[1;33m\u001b[0m\u001b[1;33m\u001b[0m\u001b[0m\n\u001b[0;32m    862\u001b[0m             \u001b[0mself\u001b[0m\u001b[1;33m.\u001b[0m\u001b[0m_parent_header\u001b[0m\u001b[1;33m,\u001b[0m\u001b[1;33m\u001b[0m\u001b[1;33m\u001b[0m\u001b[0m\n",
      "\u001b[1;32m~\\anaconda3\\lib\\site-packages\\ipykernel\\kernelbase.py\u001b[0m in \u001b[0;36m_input_request\u001b[1;34m(self, prompt, ident, parent, password)\u001b[0m\n\u001b[0;32m    902\u001b[0m             \u001b[1;32mexcept\u001b[0m \u001b[0mKeyboardInterrupt\u001b[0m\u001b[1;33m:\u001b[0m\u001b[1;33m\u001b[0m\u001b[1;33m\u001b[0m\u001b[0m\n\u001b[0;32m    903\u001b[0m                 \u001b[1;31m# re-raise KeyboardInterrupt, to truncate traceback\u001b[0m\u001b[1;33m\u001b[0m\u001b[1;33m\u001b[0m\u001b[1;33m\u001b[0m\u001b[0m\n\u001b[1;32m--> 904\u001b[1;33m                 \u001b[1;32mraise\u001b[0m \u001b[0mKeyboardInterrupt\u001b[0m\u001b[1;33m(\u001b[0m\u001b[1;34m\"Interrupted by user\"\u001b[0m\u001b[1;33m)\u001b[0m \u001b[1;32mfrom\u001b[0m \u001b[1;32mNone\u001b[0m\u001b[1;33m\u001b[0m\u001b[1;33m\u001b[0m\u001b[0m\n\u001b[0m\u001b[0;32m    905\u001b[0m             \u001b[1;32mexcept\u001b[0m \u001b[0mException\u001b[0m \u001b[1;32mas\u001b[0m \u001b[0me\u001b[0m\u001b[1;33m:\u001b[0m\u001b[1;33m\u001b[0m\u001b[1;33m\u001b[0m\u001b[0m\n\u001b[0;32m    906\u001b[0m                 \u001b[0mself\u001b[0m\u001b[1;33m.\u001b[0m\u001b[0mlog\u001b[0m\u001b[1;33m.\u001b[0m\u001b[0mwarning\u001b[0m\u001b[1;33m(\u001b[0m\u001b[1;34m\"Invalid Message:\"\u001b[0m\u001b[1;33m,\u001b[0m \u001b[0mexc_info\u001b[0m\u001b[1;33m=\u001b[0m\u001b[1;32mTrue\u001b[0m\u001b[1;33m)\u001b[0m\u001b[1;33m\u001b[0m\u001b[1;33m\u001b[0m\u001b[0m\n",
      "\u001b[1;31mKeyboardInterrupt\u001b[0m: Interrupted by user"
     ]
    }
   ],
   "source": [
    "print(\"Bot:Hi i am bot\")\n",
    "exit_list=['exit','see you later','bye','break','quit']\n",
    "while(True):\n",
    "    user_input=input()\n",
    "    if(user_input==\"Find event near me:\"):\n",
    "        print(\"Ok\")\n",
    "    elif user_input.lower() in exit_list:\n",
    "        print(\"Bot:Chat you later!\")\n",
    "        break\n",
    "    else:\n",
    "        if greeting_response(user_input)!=None:\n",
    "            print('Bot: '+greeting_response(user_input))\n",
    "        else:\n",
    "            print('Bot: '+bot_response(user_input))\n",
    "    "
   ]
  },
  {
   "cell_type": "code",
   "execution_count": null,
   "metadata": {},
   "outputs": [],
   "source": []
  },
  {
   "cell_type": "code",
   "execution_count": null,
   "metadata": {},
   "outputs": [],
   "source": []
  }
 ],
 "metadata": {
  "kernelspec": {
   "display_name": "Python 3.9.4 64-bit",
   "language": "python",
   "name": "python3"
  },
  "language_info": {
   "codemirror_mode": {
    "name": "ipython",
    "version": 3
   },
   "file_extension": ".py",
   "mimetype": "text/x-python",
   "name": "python",
   "nbconvert_exporter": "python",
   "pygments_lexer": "ipython3",
   "version": "3.9.4"
  },
  "vscode": {
   "interpreter": {
    "hash": "1626477e7fbfe3b32a03de57020c133bfe64e160c0930b46550ee5c2c2330793"
   }
  }
 },
 "nbformat": 4,
 "nbformat_minor": 4
}
